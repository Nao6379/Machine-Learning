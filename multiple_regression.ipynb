{
 "cells": [
  {
   "cell_type": "markdown",
   "metadata": {},
   "source": [
    "# 重回帰分析"
   ]
  },
  {
   "cell_type": "markdown",
   "metadata": {},
   "source": [
    "# Resting State"
   ]
  },
  {
   "cell_type": "code",
   "execution_count": 1,
   "metadata": {},
   "outputs": [
    {
     "data": {
      "text/plain": [
       "31.605161532971362"
      ]
     },
     "execution_count": 1,
     "metadata": {},
     "output_type": "execute_result"
    }
   ],
   "source": [
    "import pandas as pd\n",
    "import numpy as np\n",
    "\n",
    "from sklearn.model_selection import train_test_split\n",
    "from sklearn.linear_model import LinearRegression\n",
    "from sklearn.metrics import mean_squared_error\n",
    "\n",
    "\n",
    "# 静止状態\n",
    "df = pd.read_csv('RUD_K_okada2_test3.csv')\n",
    "df = df.sample(frac=1, random_state=0)\n",
    "\n",
    "X_train = df.iloc[:, :4]\n",
    "\n",
    "y_train = df.iloc[:,-1]\n",
    "\n",
    "\n",
    "X_train, X_test, y_train, y_test = train_test_split(X_train, y_train, test_size = 0.1, random_state=0) \n",
    "\n",
    "model = LinearRegression()\n",
    "model.fit(X_train, y_train)\n",
    "\n",
    "predict = model.predict(X_test)\n",
    "\n",
    "np.sqrt(mean_squared_error(y_test, predict))"
   ]
  },
  {
   "cell_type": "code",
   "execution_count": 2,
   "metadata": {},
   "outputs": [
    {
     "name": "stdout",
     "output_type": "stream",
     "text": [
      "[163.0408898  165.1720595  163.57767017 172.99494882 156.56635434\n",
      " 163.33380901 178.93167989 163.22485952 154.65611161 166.56314445\n",
      " 152.31916855 160.8731691  171.04120904 172.38781123 158.26933774\n",
      " 161.8878452  161.07899275 167.38106669 154.64468549 163.04553607\n",
      " 159.00057408 160.49460271 164.14694769 163.45691241]\n"
     ]
    }
   ],
   "source": [
    "predictions = model.predict(X_test).flatten()\n",
    "print(predictions)"
   ]
  },
  {
   "cell_type": "code",
   "execution_count": 3,
   "metadata": {},
   "outputs": [
    {
     "data": {
      "text/plain": [
       "Text(0, 0.5, 'Stiffness')"
      ]
     },
     "execution_count": 3,
     "metadata": {},
     "output_type": "execute_result"
    },
    {
     "data": {
      "image/png": "[encoded data removed]",
      "text/plain": [
       "<Figure size 432x288 with 1 Axes>"
      ]
     },
     "metadata": {
      "needs_background": "light"
     },
     "output_type": "display_data"
    }
   ],
   "source": [
    "import matplotlib.pyplot as plt\n",
    "\n",
    "X = []\n",
    "for i in range(np.size(y_test)):\n",
    "    X.append(i+1)\n",
    "pred = np.array(predictions)\n",
    "test = np.array(y_test)\n",
    "\n",
    "plt.figure()\n",
    "plt.plot(X,pred,X,test)\n",
    "plt.legend([\"Estimated Value\", \"Measured Value\"])\n",
    "plt.xlabel(\"Data No\")\n",
    "plt.ylabel(\"Stiffness\")"
   ]
  },
  {
   "cell_type": "code",
   "execution_count": 9,
   "metadata": {},
   "outputs": [
    {
     "data": {
      "text/plain": [
       "70     12.238957\n",
       "100     8.692873\n",
       "17     20.392915\n",
       "203    19.994988\n",
       "69      7.357886\n",
       "138    12.525198\n",
       "229     7.792147\n",
       "105    12.988198\n",
       "80      6.108904\n",
       "91      7.430363\n",
       "49      4.841469\n",
       "224     6.039908\n",
       "134    10.180727\n",
       "141    12.207931\n",
       "132    11.465092\n",
       "90      8.148653\n",
       "26      5.773383\n",
       "211    16.534020\n",
       "161     4.546637\n",
       "130    10.531261\n",
       "28      3.610981\n",
       "191     9.687377\n",
       "199    10.220247\n",
       "207    12.533123\n",
       "Name: Var7, dtype: float64"
      ]
     },
     "execution_count": 9,
     "metadata": {},
     "output_type": "execute_result"
    }
   ],
   "source": [
    "y_test"
   ]
  },
  {
   "cell_type": "markdown",
   "metadata": {},
   "source": [
    "# Operating State"
   ]
  },
  {
   "cell_type": "code",
   "execution_count": 15,
   "metadata": {},
   "outputs": [
    {
     "data": {
      "text/plain": [
       "3.17135257373439"
      ]
     },
     "execution_count": 15,
     "metadata": {},
     "output_type": "execute_result"
    }
   ],
   "source": [
    "import pandas as pd\n",
    "import numpy as np\n",
    "\n",
    "from sklearn.model_selection import train_test_split\n",
    "from sklearn.linear_model import LinearRegression\n",
    "from sklearn.metrics import mean_squared_error\n",
    "\n",
    "\n",
    "# 静止状態\n",
    "df = pd.read_csv('Rest_rud_K_real.csv')\n",
    "# 動作状態\n",
    "df2 = pd.read_csv('Jag_rud_K_real.csv')\n",
    "\n",
    "X_train = df.iloc[:, :6]\n",
    "X_test = df2.iloc[:, :-1]\n",
    "\n",
    "y_train = df.iloc[:,6]\n",
    "y_test = df2.iloc[:,-1]\n",
    "\n",
    "model = LinearRegression()\n",
    "model.fit(X_train, y_train)\n",
    "\n",
    "predict = model.predict(X_test)\n",
    "\n",
    "np.sqrt(mean_squared_error(y_test, predict))"
   ]
  },
  {
   "cell_type": "code",
   "execution_count": 16,
   "metadata": {},
   "outputs": [
    {
     "name": "stdout",
     "output_type": "stream",
     "text": [
      "[7.56491885 6.64726016 7.53393325 7.97672281 6.63789166 6.6623783\n",
      " 6.60831674 9.81724847 6.27639213 7.48510404]\n"
     ]
    }
   ],
   "source": [
    "predictions = model.predict(X_test).flatten()\n",
    "print(predictions)"
   ]
  },
  {
   "cell_type": "code",
   "execution_count": null,
   "metadata": {},
   "outputs": [],
   "source": []
  }
 ],
 "metadata": {
  "kernelspec": {
   "display_name": "Python 3",
   "language": "python",
   "name": "python3"
  },
  "language_info": {
   "codemirror_mode": {
    "name": "ipython",
    "version": 3
   },
   "file_extension": ".py",
   "mimetype": "text/x-python",
   "name": "python",
   "nbconvert_exporter": "python",
   "pygments_lexer": "ipython3",
   "version": "3.8.3"
  }
 },
 "nbformat": 4,
 "nbformat_minor": 4
}
